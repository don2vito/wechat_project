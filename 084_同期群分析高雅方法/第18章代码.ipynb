{
 "cells": [
  {
   "cell_type": "markdown",
   "id": "f101ed9b",
   "metadata": {},
   "source": [
    "# array 方法介绍"
   ]
  },
  {
   "cell_type": "markdown",
   "id": "846d4017",
   "metadata": {},
   "source": [
    "## 同时出现在两个数组中的元素\n",
    "## 第二个数组比第一个数组多了多少个元素"
   ]
  },
  {
   "cell_type": "code",
   "execution_count": 33,
   "id": "a209054e",
   "metadata": {},
   "outputs": [],
   "source": [
    "# 提高输出效率库\n",
    "from IPython.core.interactiveshell import InteractiveShell # 实现 notebook 的多行输出\n",
    "InteractiveShell.ast_node_interactivity = 'all' #默认为'last'"
   ]
  },
  {
   "cell_type": "code",
   "execution_count": 18,
   "id": "c438cec0",
   "metadata": {},
   "outputs": [
    {
     "name": "stdout",
     "output_type": "stream",
     "text": [
      "该月用户消费记录：[1 2 2 3 4 5 7]\n",
      "下月用户消费记录：[2 3 4 5 6 6 6]\n",
      "有 4 个用户在该月消费后下个月依然消费。id分别为：[2 3 4 5]\n"
     ]
    }
   ],
   "source": [
    "import numpy as np\n",
    "\n",
    "# 示例数据，两个月的用户ID：当月和下月\n",
    "current_month = np.array([1, 2, 2, 3, 4, 5, 7])\n",
    "next_month = np.array([2, 3, 4, 5, 6, 6, 6])\n",
    "\n",
    "# 获取在这个月消费后下个月仍然消费的用户ID\n",
    "# np.intersect1d()函数可以计算交集的长度，而且会自动去重\n",
    "common_users = np.intersect1d(current_month, next_month)\n",
    "\n",
    "print(f'该月用户消费记录：{current_month}')\n",
    "print(f'下月用户消费记录：{next_month}')\n",
    "\n",
    "# 输出结果：在这个月消费后下个月仍然消费的用户数量\n",
    "print(f'有 {len(common_users)} 个用户在该月消费后下个月依然消费。id分别为：{common_users}')"
   ]
  },
  {
   "cell_type": "code",
   "execution_count": 20,
   "id": "3b56286a",
   "metadata": {},
   "outputs": [
    {
     "name": "stdout",
     "output_type": "stream",
     "text": [
      "该月用户消费记录：[1 2 2 3 4 5 7]\n",
      "下月用户消费记录：[2 3 4 5 6 6 6]\n",
      "下个月中，有 1 个新增用户，id分别为：[6]\n"
     ]
    }
   ],
   "source": [
    "print(f'该月用户消费记录：{current_month}')\n",
    "print(f'下月用户消费记录：{next_month}')\n",
    "# 获取第二个月新增的用户ID\n",
    "new_users = np.setdiff1d(next_month, current_month)\n",
    "# 输出结果：第二个月新增的用户数量\n",
    "print(f'下个月中，有 {len(new_users)} 个新增用户，id分别为：{new_users}')"
   ]
  },
  {
   "cell_type": "markdown",
   "id": "8bcbf256",
   "metadata": {},
   "source": [
    "# 数据读入与处理"
   ]
  },
  {
   "cell_type": "code",
   "execution_count": 22,
   "id": "893907ae",
   "metadata": {},
   "outputs": [
    {
     "data": {
      "text/html": [
       "<div>\n",
       "<style scoped>\n",
       "    .dataframe tbody tr th:only-of-type {\n",
       "        vertical-align: middle;\n",
       "    }\n",
       "\n",
       "    .dataframe tbody tr th {\n",
       "        vertical-align: top;\n",
       "    }\n",
       "\n",
       "    .dataframe thead th {\n",
       "        text-align: right;\n",
       "    }\n",
       "</style>\n",
       "<table border=\"1\" class=\"dataframe\">\n",
       "  <thead>\n",
       "    <tr style=\"text-align: right;\">\n",
       "      <th></th>\n",
       "      <th>脱敏客户ID</th>\n",
       "      <th>付款时间</th>\n",
       "      <th>支付金额</th>\n",
       "      <th>付款年月</th>\n",
       "    </tr>\n",
       "  </thead>\n",
       "  <tbody>\n",
       "    <tr>\n",
       "      <th>39799</th>\n",
       "      <td>cumid30822</td>\n",
       "      <td>2024-02-29 02:21:20</td>\n",
       "      <td>76.39</td>\n",
       "      <td>2024-02</td>\n",
       "    </tr>\n",
       "    <tr>\n",
       "      <th>5729</th>\n",
       "      <td>cumid5274</td>\n",
       "      <td>2023-10-17 16:27:55</td>\n",
       "      <td>17.98</td>\n",
       "      <td>2023-10</td>\n",
       "    </tr>\n",
       "    <tr>\n",
       "      <th>1109</th>\n",
       "      <td>cumid1061</td>\n",
       "      <td>2023-09-17 13:10:32</td>\n",
       "      <td>25.33</td>\n",
       "      <td>2023-09</td>\n",
       "    </tr>\n",
       "    <tr>\n",
       "      <th>24754</th>\n",
       "      <td>cumid2850</td>\n",
       "      <td>2024-01-06 13:59:01</td>\n",
       "      <td>9.64</td>\n",
       "      <td>2024-01</td>\n",
       "    </tr>\n",
       "    <tr>\n",
       "      <th>32405</th>\n",
       "      <td>cumid25457</td>\n",
       "      <td>2024-02-06 17:03:52</td>\n",
       "      <td>44.13</td>\n",
       "      <td>2024-02</td>\n",
       "    </tr>\n",
       "    <tr>\n",
       "      <th>22293</th>\n",
       "      <td>cumid18324</td>\n",
       "      <td>2023-12-28 15:52:29</td>\n",
       "      <td>116.91</td>\n",
       "      <td>2023-12</td>\n",
       "    </tr>\n",
       "    <tr>\n",
       "      <th>27044</th>\n",
       "      <td>cumid13784</td>\n",
       "      <td>2024-01-12 22:44:28</td>\n",
       "      <td>0.00</td>\n",
       "      <td>2024-01</td>\n",
       "    </tr>\n",
       "    <tr>\n",
       "      <th>865</th>\n",
       "      <td>cumid828</td>\n",
       "      <td>2023-09-13 17:16:02</td>\n",
       "      <td>19.35</td>\n",
       "      <td>2023-09</td>\n",
       "    </tr>\n",
       "    <tr>\n",
       "      <th>18962</th>\n",
       "      <td>cumid15867</td>\n",
       "      <td>2023-12-12 11:56:46</td>\n",
       "      <td>36.32</td>\n",
       "      <td>2023-12</td>\n",
       "    </tr>\n",
       "    <tr>\n",
       "      <th>6194</th>\n",
       "      <td>cumid5694</td>\n",
       "      <td>2023-10-18 11:51:20</td>\n",
       "      <td>350.02</td>\n",
       "      <td>2023-10</td>\n",
       "    </tr>\n",
       "  </tbody>\n",
       "</table>\n",
       "</div>"
      ],
      "text/plain": [
       "           脱敏客户ID                付款时间    支付金额     付款年月\n",
       "39799  cumid30822 2024-02-29 02:21:20   76.39  2024-02\n",
       "5729    cumid5274 2023-10-17 16:27:55   17.98  2023-10\n",
       "1109    cumid1061 2023-09-17 13:10:32   25.33  2023-09\n",
       "24754   cumid2850 2024-01-06 13:59:01    9.64  2024-01\n",
       "32405  cumid25457 2024-02-06 17:03:52   44.13  2024-02\n",
       "22293  cumid18324 2023-12-28 15:52:29  116.91  2023-12\n",
       "27044  cumid13784 2024-01-12 22:44:28    0.00  2024-01\n",
       "865      cumid828 2023-09-13 17:16:02   19.35  2023-09\n",
       "18962  cumid15867 2023-12-12 11:56:46   36.32  2023-12\n",
       "6194    cumid5694 2023-10-18 11:51:20  350.02  2023-10"
      ]
     },
     "execution_count": 22,
     "metadata": {},
     "output_type": "execute_result"
    }
   ],
   "source": [
    "import pandas as pd\n",
    "\n",
    "df = pd.read_csv('customers_data.csv')\n",
    "df['付款时间'] = pd.to_datetime(df['付款时间'])\n",
    "df['付款年月'] = df['付款时间'].dt.strftime('%Y-%m')\n",
    "df.sample(10)"
   ]
  },
  {
   "cell_type": "code",
   "execution_count": 23,
   "id": "b2273de3",
   "metadata": {},
   "outputs": [],
   "source": [
    "df.sample(10).to_clipboard()"
   ]
  },
  {
   "cell_type": "markdown",
   "id": "edf331a0",
   "metadata": {},
   "source": [
    "# 单月新增的留存情况\n",
    "以 2023年 9 月为例，计算之后的留存情况"
   ]
  },
  {
   "cell_type": "code",
   "execution_count": 21,
   "id": "591d153a",
   "metadata": {},
   "outputs": [
    {
     "name": "stdout",
     "output_type": "stream",
     "text": [
      "2023-09 消费记录数：2187，新增用户数（唯一ID）：2031\n",
      "2023-10 的用户中，有 252 个是上个月留存下来的\n"
     ]
    }
   ],
   "source": [
    "# 2023年9月用户新增情况\n",
    "Nov_new = df.query('付款年月 == \"2023-09\"')\n",
    "print(f'2023-09 消费记录数：{len(Nov_new)}，新增用户数（唯一ID）：{Nov_new[\"脱敏客户ID\"].nunique()}')\n",
    "\n",
    "# 9 月新增的用户中，有多少留存到了 10 月\n",
    "# 与历史数据做匹配，即客户昵称在 2023-10 月且也在 9 月的\n",
    "month = '2023-10'\n",
    "month_customer = df[df['付款年月'] == month]\n",
    "common_users = np.intersect1d(Nov_new[\"脱敏客户ID\"], month_customer[\"脱敏客户ID\"])\n",
    "print(f'{month} 的用户中，有 {len(common_users)} 个是上个月留存下来的')"
   ]
  },
  {
   "cell_type": "code",
   "execution_count": 25,
   "id": "97cc5602",
   "metadata": {},
   "outputs": [
    {
     "name": "stdout",
     "output_type": "stream",
     "text": [
      "2023-09 的客户在后续月份中的留存情况...\n"
     ]
    },
    {
     "data": {
      "text/plain": [
       "[['2023-10留存人数：', 252],\n",
       " ['2023-11留存人数：', 216],\n",
       " ['2023-12留存人数：', 163],\n",
       " ['2024-01留存人数：', 156],\n",
       " ['2024-02留存人数：', 164]]"
      ]
     },
     "execution_count": 25,
     "metadata": {},
     "output_type": "execute_result"
    }
   ],
   "source": [
    "# 循环构造\n",
    "print('2023-09 的客户在后续月份中的留存情况...')\n",
    "stay = []\n",
    "for i in ['2023-10', '2023-11', '2023-12', '2024-01', '2024-02']:\n",
    "    next_month = df[df['付款年月'] == i]\n",
    "    # 2023-9 的客户还出现在时间 i 的 DataFrame 中\n",
    "    common_users = np.intersect1d(Nov_new[\"脱敏客户ID\"], next_month[\"脱敏客户ID\"])\n",
    "    stay.append( [i+'留存人数：', len(common_users)] )\n",
    "stay"
   ]
  },
  {
   "cell_type": "markdown",
   "id": "576cd5c6",
   "metadata": {},
   "source": [
    "# 循环构造"
   ]
  },
  {
   "cell_type": "code",
   "execution_count": 17,
   "id": "75eb042a",
   "metadata": {},
   "outputs": [
    {
     "data": {
      "text/plain": [
       "array(['2023-09', '2023-10', '2023-11', '2023-12', '2024-01', '2024-02'],\n",
       "      dtype=object)"
      ]
     },
     "execution_count": 17,
     "metadata": {},
     "output_type": "execute_result"
    }
   ],
   "source": [
    "month_list = df['付款年月'].unique()\n",
    "month_list"
   ]
  },
  {
   "cell_type": "markdown",
   "id": "de020455",
   "metadata": {},
   "source": [
    "## 大循环外部"
   ]
  },
  {
   "cell_type": "code",
   "execution_count": 27,
   "id": "f3217766",
   "metadata": {},
   "outputs": [
    {
     "name": "stdout",
     "output_type": "stream",
     "text": [
      "下面统计: 2023-09 的新增情况...\n",
      "2023-09 是第一个月，无需验证客户是否为新增客户。\n",
      "该月的新增用户数为：2031\n",
      "\n",
      "\n",
      "下面统计: 2023-10 的新增情况...\n",
      "2023-10 的历史年月为：['2023-09']\n",
      "相较于历史年月，该月的新增客户数为：7043\n",
      "\n",
      "\n",
      "下面统计: 2023-11 的新增情况...\n",
      "2023-11 的历史年月为：['2023-09' '2023-10']\n",
      "相较于历史年月，该月的新增客户数为：4732\n",
      "\n",
      "\n",
      "下面统计: 2023-12 的新增情况...\n",
      "2023-12 的历史年月为：['2023-09' '2023-10' '2023-11']\n",
      "相较于历史年月，该月的新增客户数为：4979\n",
      "\n",
      "\n",
      "下面统计: 2024-01 的新增情况...\n",
      "2024-01 的历史年月为：['2023-09' '2023-10' '2023-11' '2023-12']\n",
      "相较于历史年月，该月的新增客户数为：5110\n",
      "\n",
      "\n"
     ]
    }
   ],
   "source": [
    "for i in range(0, len(month_list)-1):\n",
    "                   # len()-1 的原因：最后一个月之后就没有数据了\n",
    "    # 筛选出 month_list 中的每月消费，并统计客户数量\n",
    "    print(f'下面统计: {month_list[i]} 的新增情况...')\n",
    "    current_data = df[ df['付款年月']==month_list[i] ]\n",
    "    current_clients = current_data['脱敏客户ID'].unique()\n",
    "    \n",
    "    # =========================== 统计新增情况 ==================================\n",
    "    # 跳过数据集中的第一个月，因为没有历史数据来验证该客户是否为新增客户\n",
    "    if i == 0:\n",
    "        print(f'{month_list[i]} 是第一个月，无需验证客户是否为新增客户。')\n",
    "        new_clients_num = len(current_clients)\n",
    "        print(f'该月的新增用户数为：{new_clients_num}')\n",
    "    else:\n",
    "        # 筛选该月（current_month）之前的所有历史消费记录\n",
    "        history_month = month_list[:i]\n",
    "        print(f'{month_list[i]} 的历史年月为：{history_month}')\n",
    "        history_data = df[ df['付款年月'].isin(history_month) ]\n",
    "        # 筛选未在历史消费记录中出现过的新增客户\n",
    "        new_users = np.setdiff1d(current_data['脱敏客户ID'], history_data['脱敏客户ID'])\n",
    "        print(f'相较于历史年月，该月的新增客户数为：{len(new_users)}')\n",
    "    print('\\n')"
   ]
  },
  {
   "cell_type": "markdown",
   "id": "56ef1ab6",
   "metadata": {},
   "source": [
    "## 加入小循环"
   ]
  },
  {
   "cell_type": "code",
   "execution_count": 28,
   "id": "7cb6994c",
   "metadata": {},
   "outputs": [
    {
     "name": "stdout",
     "output_type": "stream",
     "text": [
      "下面统计: 2023-09 的新增情况...\n",
      "2023-09 是第一个月，无需验证客户是否为新增客户。\n",
      "该月的新增用户数为：2031\n",
      "--------------------------------------------------\n",
      "下面统计该月之后的每个月的留存情况...\n",
      "2023-10 的留存人数：252\n",
      "2023-11 的留存人数：216\n",
      "2023-12 的留存人数：163\n",
      "2024-01 的留存人数：156\n",
      "2024-02 的留存人数：164\n",
      "\n",
      "\n",
      "下面统计: 2023-10 的新增情况...\n",
      "2023-10 的历史年月为：['2023-09']\n",
      "相较于历史年月，该月的新增客户数为：7043\n",
      "--------------------------------------------------\n",
      "下面统计该月之后的每个月的留存情况...\n",
      "2023-11 的留存人数：623\n",
      "2023-12 的留存人数：491\n",
      "2024-01 的留存人数：488\n",
      "2024-02 的留存人数：491\n",
      "\n",
      "\n",
      "下面统计: 2023-11 的新增情况...\n",
      "2023-11 的历史年月为：['2023-09' '2023-10']\n",
      "相较于历史年月，该月的新增客户数为：4732\n",
      "--------------------------------------------------\n",
      "下面统计该月之后的每个月的留存情况...\n",
      "2023-12 的留存人数：637\n",
      "2024-01 的留存人数：562\n",
      "2024-02 的留存人数：486\n",
      "\n",
      "\n",
      "下面统计: 2023-12 的新增情况...\n",
      "2023-12 的历史年月为：['2023-09' '2023-10' '2023-11']\n",
      "相较于历史年月，该月的新增客户数为：4979\n",
      "--------------------------------------------------\n",
      "下面统计该月之后的每个月的留存情况...\n",
      "2024-01 的留存人数：821\n",
      "2024-02 的留存人数：636\n",
      "\n",
      "\n",
      "下面统计: 2024-01 的新增情况...\n",
      "2024-01 的历史年月为：['2023-09' '2023-10' '2023-11' '2023-12']\n",
      "相较于历史年月，该月的新增客户数为：5110\n",
      "--------------------------------------------------\n",
      "下面统计该月之后的每个月的留存情况...\n",
      "2024-02 的留存人数：909\n",
      "\n",
      "\n"
     ]
    }
   ],
   "source": [
    "for i in range(0, len(month_list)-1):\n",
    "                   # len()-1 的原因：最后一个月之后就没有数据了\n",
    "    # 筛选出 month_list 中的每月消费，并统计客户数量\n",
    "    print(f'下面统计: {month_list[i]} 的新增情况...')\n",
    "    current_data = df[ df['付款年月']==month_list[i] ]\n",
    "    current_clients = current_data['脱敏客户ID'].unique()\n",
    "    \n",
    "    # =========================== 统计新增情况 ==================================\n",
    "    # 跳过数据集中的第一个月，因为没有历史数据来验证该客户是否为新增客户\n",
    "    if i == 0:\n",
    "        print(f'{month_list[i]} 是第一个月，无需验证客户是否为新增客户。')\n",
    "        new_clients_num = len(current_clients)\n",
    "        print(f'该月的新增用户数为：{new_clients_num}')\n",
    "    else:\n",
    "        # 筛选该月（current_month）之前的所有历史消费记录\n",
    "        history_month = month_list[:i]\n",
    "        print(f'{month_list[i]} 的历史年月为：{history_month}')\n",
    "        history_data = df[ df['付款年月'].isin(history_month) ]\n",
    "        # 筛选未在历史消费记录中出现过的新增客户\n",
    "        new_users = np.setdiff1d(current_data['脱敏客户ID'], history_data['脱敏客户ID'])\n",
    "        print(f'相较于历史年月，该月的新增客户数为：{len(new_users)}')\n",
    "        \n",
    "    # =========================== 统计留存情况 ==================================\n",
    "    print('-'*50)\n",
    "    print('下面统计该月之后的每个月的留存情况...')\n",
    "    for j in range(i+1, len(month_list)):\n",
    "        next_month_data = df[ df['付款年月']==month_list[j] ]\n",
    "        # 统计既出现在该月，又出现在下个月的用户\n",
    "        next_month_retain = np.intersect1d(current_data['脱敏客户ID'], next_month_data['脱敏客户ID'])\n",
    "        print(f'{month_list[j]} 的留存人数：{len(next_month_retain)}')\n",
    "    print('\\n')"
   ]
  },
  {
   "cell_type": "markdown",
   "id": "d9bdb9f3",
   "metadata": {},
   "source": [
    "# 在循环中构建 DataFrame 需要的数据"
   ]
  },
  {
   "cell_type": "code",
   "execution_count": 42,
   "id": "9725b7fa",
   "metadata": {},
   "outputs": [
    {
     "name": "stdout",
     "output_type": "stream",
     "text": [
      "下面统计: 2023-09 的新增情况...\n",
      "2023-09 是第一个月，无需验证客户是否为新增客户。\n",
      "该月的新增用户数为：2031\n",
      "--------------------------------------------------\n",
      "下面统计该月之后的每个月的留存情况...\n",
      "2023-10 的留存人数：252\n",
      "2023-11 的留存人数：216\n",
      "2023-12 的留存人数：163\n",
      "2024-01 的留存人数：156\n",
      "2024-02 的留存人数：164\n",
      "\n",
      "\n",
      "下面统计: 2023-10 的新增情况...\n",
      "2023-10 的历史年月为：['2023-09']\n",
      "相较于历史年月，该月的新增客户数为：7043\n",
      "--------------------------------------------------\n",
      "下面统计该月之后的每个月的留存情况...\n",
      "2023-11 的留存人数：623\n",
      "2023-12 的留存人数：491\n",
      "2024-01 的留存人数：488\n",
      "2024-02 的留存人数：491\n",
      "\n",
      "\n",
      "下面统计: 2023-11 的新增情况...\n",
      "2023-11 的历史年月为：['2023-09' '2023-10']\n",
      "相较于历史年月，该月的新增客户数为：4732\n",
      "--------------------------------------------------\n",
      "下面统计该月之后的每个月的留存情况...\n",
      "2023-12 的留存人数：637\n",
      "2024-01 的留存人数：562\n",
      "2024-02 的留存人数：486\n",
      "\n",
      "\n",
      "下面统计: 2023-12 的新增情况...\n",
      "2023-12 的历史年月为：['2023-09' '2023-10' '2023-11']\n",
      "相较于历史年月，该月的新增客户数为：4979\n",
      "--------------------------------------------------\n",
      "下面统计该月之后的每个月的留存情况...\n",
      "2024-01 的留存人数：821\n",
      "2024-02 的留存人数：636\n",
      "\n",
      "\n",
      "下面统计: 2024-01 的新增情况...\n",
      "2024-01 的历史年月为：['2023-09' '2023-10' '2023-11' '2023-12']\n",
      "相较于历史年月，该月的新增客户数为：5110\n",
      "--------------------------------------------------\n",
      "下面统计该月之后的每个月的留存情况...\n",
      "2024-02 的留存人数：909\n",
      "\n",
      "\n",
      "下面统计: 2024-02 的新增情况...\n",
      "2024-02 的历史年月为：['2023-09' '2023-10' '2023-11' '2023-12' '2024-01']\n",
      "相较于历史年月，该月的新增客户数为：7101\n",
      "--------------------------------------------------\n",
      "下面统计该月之后的每个月的留存情况...\n",
      "\n",
      "\n"
     ]
    }
   ],
   "source": [
    "# 存储每月新增的客户数\n",
    "monthly_increase = {} # 用字典存储，格式输出漂亮些，也有助于添加进 DataFrame 中\n",
    "\n",
    "for i in range(0, len(month_list)):\n",
    "    \n",
    "    # 筛选出 month_list 中的每月消费，并统计客户数量\n",
    "    print(f'下面统计: {month_list[i]} 的新增情况...')\n",
    "    current_data = df[ df['付款年月']==month_list[i] ]\n",
    "    current_clients = current_data['脱敏客户ID'].unique()\n",
    "    \n",
    "    # =========================== 统计新增情况 ==================================\n",
    "    # 跳过数据集中的第一个月，因为没有历史数据来验证该客户是否为新增客户\n",
    "    if i == 0:\n",
    "        print(f'{month_list[i]} 是第一个月，无需验证客户是否为新增客户。')\n",
    "        new_clients_num = len(current_clients)\n",
    "        print(f'该月的新增用户数为：{new_clients_num}')\n",
    "        monthly_increase[month_list[i]] = new_clients_num\n",
    "        \n",
    "    else:\n",
    "        # 筛选该月（current_month）之前的所有历史消费记录\n",
    "        history_month = month_list[:i]\n",
    "        print(f'{month_list[i]} 的历史年月为：{history_month}')\n",
    "        history_data = df[ df['付款年月'].isin(history_month) ]\n",
    "        # 筛选未在历史消费记录中出现过的新增客户\n",
    "        new_users = np.setdiff1d(current_data['脱敏客户ID'], history_data['脱敏客户ID'])\n",
    "        print(f'相较于历史年月，该月的新增客户数为：{len(new_users)}')\n",
    "        monthly_increase[month_list[i]] = len(new_users)\n",
    "        \n",
    "    # =========================== 统计留存情况 ==================================\n",
    "    print('-'*50)\n",
    "    print('下面统计该月之后的每个月的留存情况...')\n",
    "    for j in range(i+1, len(month_list)):\n",
    "        next_month_data = df[ df['付款年月']==month_list[j] ]\n",
    "        # 统计既出现在该月，又出现在下个月的用户\n",
    "        next_month_retain = np.intersect1d(current_data['脱敏客户ID'], next_month_data['脱敏客户ID'])\n",
    "        print(f'{month_list[j]} 的留存人数：{len(next_month_retain)}')\n",
    "    print('\\n')"
   ]
  },
  {
   "cell_type": "code",
   "execution_count": 43,
   "id": "6c434b74",
   "metadata": {},
   "outputs": [
    {
     "data": {
      "text/plain": [
       "{'2023-09': 2031,\n",
       " '2023-10': 7043,\n",
       " '2023-11': 4732,\n",
       " '2023-12': 4979,\n",
       " '2024-01': 5110,\n",
       " '2024-02': 7101}"
      ]
     },
     "execution_count": 43,
     "metadata": {},
     "output_type": "execute_result"
    },
    {
     "data": {
      "text/plain": [
       "['2023-09', '2023-10', '2023-11', '2023-12', '2024-01', '2024-02']"
      ]
     },
     "execution_count": 43,
     "metadata": {},
     "output_type": "execute_result"
    },
    {
     "data": {
      "text/plain": [
       "[2031, 7043, 4732, 4979, 5110, 7101]"
      ]
     },
     "execution_count": 43,
     "metadata": {},
     "output_type": "execute_result"
    }
   ],
   "source": [
    "monthly_increase\n",
    "# DataFrame 的索引\n",
    "result_index = list(monthly_increase.keys()) \n",
    "# 当月新增\n",
    "current_month_increase = list(monthly_increase.values())\n",
    "\n",
    "result_index\n",
    "current_month_increase"
   ]
  },
  {
   "cell_type": "code",
   "execution_count": 47,
   "id": "d253d28d",
   "metadata": {},
   "outputs": [
    {
     "data": {
      "text/html": [
       "<div>\n",
       "<style scoped>\n",
       "    .dataframe tbody tr th:only-of-type {\n",
       "        vertical-align: middle;\n",
       "    }\n",
       "\n",
       "    .dataframe tbody tr th {\n",
       "        vertical-align: top;\n",
       "    }\n",
       "\n",
       "    .dataframe thead th {\n",
       "        text-align: right;\n",
       "    }\n",
       "</style>\n",
       "<table border=\"1\" class=\"dataframe\">\n",
       "  <thead>\n",
       "    <tr style=\"text-align: right;\">\n",
       "      <th></th>\n",
       "      <th>当月新增</th>\n",
       "      <th>+1月</th>\n",
       "      <th>+2月</th>\n",
       "      <th>+3月</th>\n",
       "      <th>+4月</th>\n",
       "      <th>+5月</th>\n",
       "    </tr>\n",
       "  </thead>\n",
       "  <tbody>\n",
       "    <tr>\n",
       "      <th>2023-09</th>\n",
       "      <td>2031</td>\n",
       "      <td>252</td>\n",
       "      <td>216</td>\n",
       "      <td>163</td>\n",
       "      <td>156</td>\n",
       "      <td>164</td>\n",
       "    </tr>\n",
       "    <tr>\n",
       "      <th>2023-10</th>\n",
       "      <td>7043</td>\n",
       "      <td>623</td>\n",
       "      <td>491</td>\n",
       "      <td>488</td>\n",
       "      <td>491</td>\n",
       "      <td>0</td>\n",
       "    </tr>\n",
       "    <tr>\n",
       "      <th>2023-11</th>\n",
       "      <td>4732</td>\n",
       "      <td>637</td>\n",
       "      <td>562</td>\n",
       "      <td>486</td>\n",
       "      <td>0</td>\n",
       "      <td>0</td>\n",
       "    </tr>\n",
       "    <tr>\n",
       "      <th>2023-12</th>\n",
       "      <td>4979</td>\n",
       "      <td>821</td>\n",
       "      <td>636</td>\n",
       "      <td>0</td>\n",
       "      <td>0</td>\n",
       "      <td>0</td>\n",
       "    </tr>\n",
       "    <tr>\n",
       "      <th>2024-01</th>\n",
       "      <td>5110</td>\n",
       "      <td>909</td>\n",
       "      <td>0</td>\n",
       "      <td>0</td>\n",
       "      <td>0</td>\n",
       "      <td>0</td>\n",
       "    </tr>\n",
       "    <tr>\n",
       "      <th>2024-02</th>\n",
       "      <td>7101</td>\n",
       "      <td>0</td>\n",
       "      <td>0</td>\n",
       "      <td>0</td>\n",
       "      <td>0</td>\n",
       "      <td>0</td>\n",
       "    </tr>\n",
       "  </tbody>\n",
       "</table>\n",
       "</div>"
      ],
      "text/plain": [
       "         当月新增  +1月  +2月  +3月  +4月  +5月\n",
       "2023-09  2031  252  216  163  156  164\n",
       "2023-10  7043  623  491  488  491    0\n",
       "2023-11  4732  637  562  486    0    0\n",
       "2023-12  4979  821  636    0    0    0\n",
       "2024-01  5110  909    0    0    0    0\n",
       "2024-02  7101    0    0    0    0    0"
      ]
     },
     "execution_count": 47,
     "metadata": {},
     "output_type": "execute_result"
    }
   ],
   "source": [
    "plus_one = [252, 623, 637, 821, 909, 0]\n",
    "plus_two = [216, 491, 562, 636, 0, 0]\n",
    "plus_three = [163, 488, 486, 0, 0, 0]\n",
    "plus_four = [156, 491, 0, 0, 0, 0]\n",
    "plus_five = [164, 0, 0, 0, 0, 0]\n",
    "\n",
    "data = {'当月新增': current_month_increase,\n",
    "       '+1月': plus_one, '+2月': plus_two, \n",
    "       '+3月': plus_three, '+4月': plus_four, '+5月': plus_five}\n",
    "\n",
    "result = pd.DataFrame(data, index=result_index, columns=list(data.keys()))\n",
    "result"
   ]
  },
  {
   "cell_type": "markdown",
   "id": "57dbdf6c",
   "metadata": {},
   "source": [
    "# 留存率表计算"
   ]
  },
  {
   "cell_type": "code",
   "execution_count": 53,
   "id": "f771b37a",
   "metadata": {},
   "outputs": [],
   "source": [
    "# 求比率\n",
    "# iloc：行的全部，列的第二行到最后一行\n",
    "# axis=0: 对横行的 +1~+5月的留存客户数都进行除以当月新增的操作\n",
    "final = result.divide(result['当月新增'], axis=0).iloc[:, 1:]\n",
    "final['当月新增'] = result['当月新增']\n",
    "\n",
    "# 调整列顺序\n",
    "final = final[['当月新增', '+1月', '+2月', '+3月', '+4月', '+5月']]\n",
    "final[['+1月', '+2月', '+3月', '+4月', '+5月']] = final[['+1月', '+2月', '+3月', '+4月', '+5月']].applymap(lambda x: str(round(x*100))+'%' )"
   ]
  },
  {
   "cell_type": "code",
   "execution_count": 56,
   "id": "898ae107",
   "metadata": {},
   "outputs": [],
   "source": [
    "final.replace('0%', '-', inplace=True)"
   ]
  },
  {
   "cell_type": "code",
   "execution_count": 57,
   "id": "ed63e0b8",
   "metadata": {},
   "outputs": [
    {
     "data": {
      "text/html": [
       "<div>\n",
       "<style scoped>\n",
       "    .dataframe tbody tr th:only-of-type {\n",
       "        vertical-align: middle;\n",
       "    }\n",
       "\n",
       "    .dataframe tbody tr th {\n",
       "        vertical-align: top;\n",
       "    }\n",
       "\n",
       "    .dataframe thead th {\n",
       "        text-align: right;\n",
       "    }\n",
       "</style>\n",
       "<table border=\"1\" class=\"dataframe\">\n",
       "  <thead>\n",
       "    <tr style=\"text-align: right;\">\n",
       "      <th></th>\n",
       "      <th>当月新增</th>\n",
       "      <th>+1月</th>\n",
       "      <th>+2月</th>\n",
       "      <th>+3月</th>\n",
       "      <th>+4月</th>\n",
       "      <th>+5月</th>\n",
       "    </tr>\n",
       "  </thead>\n",
       "  <tbody>\n",
       "    <tr>\n",
       "      <th>2023-09</th>\n",
       "      <td>2031</td>\n",
       "      <td>12%</td>\n",
       "      <td>11%</td>\n",
       "      <td>8%</td>\n",
       "      <td>8%</td>\n",
       "      <td>8%</td>\n",
       "    </tr>\n",
       "    <tr>\n",
       "      <th>2023-10</th>\n",
       "      <td>7043</td>\n",
       "      <td>9%</td>\n",
       "      <td>7%</td>\n",
       "      <td>7%</td>\n",
       "      <td>7%</td>\n",
       "      <td>-</td>\n",
       "    </tr>\n",
       "    <tr>\n",
       "      <th>2023-11</th>\n",
       "      <td>4732</td>\n",
       "      <td>13%</td>\n",
       "      <td>12%</td>\n",
       "      <td>10%</td>\n",
       "      <td>-</td>\n",
       "      <td>-</td>\n",
       "    </tr>\n",
       "    <tr>\n",
       "      <th>2023-12</th>\n",
       "      <td>4979</td>\n",
       "      <td>16%</td>\n",
       "      <td>13%</td>\n",
       "      <td>-</td>\n",
       "      <td>-</td>\n",
       "      <td>-</td>\n",
       "    </tr>\n",
       "    <tr>\n",
       "      <th>2024-01</th>\n",
       "      <td>5110</td>\n",
       "      <td>18%</td>\n",
       "      <td>-</td>\n",
       "      <td>-</td>\n",
       "      <td>-</td>\n",
       "      <td>-</td>\n",
       "    </tr>\n",
       "    <tr>\n",
       "      <th>2024-02</th>\n",
       "      <td>7101</td>\n",
       "      <td>-</td>\n",
       "      <td>-</td>\n",
       "      <td>-</td>\n",
       "      <td>-</td>\n",
       "      <td>-</td>\n",
       "    </tr>\n",
       "  </tbody>\n",
       "</table>\n",
       "</div>"
      ],
      "text/plain": [
       "         当月新增  +1月  +2月  +3月 +4月 +5月\n",
       "2023-09  2031  12%  11%   8%  8%  8%\n",
       "2023-10  7043   9%   7%   7%  7%   -\n",
       "2023-11  4732  13%  12%  10%   -   -\n",
       "2023-12  4979  16%  13%    -   -   -\n",
       "2024-01  5110  18%    -    -   -   -\n",
       "2024-02  7101    -    -    -   -   -"
      ]
     },
     "execution_count": 57,
     "metadata": {},
     "output_type": "execute_result"
    }
   ],
   "source": [
    "final"
   ]
  },
  {
   "cell_type": "code",
   "execution_count": 59,
   "id": "1e5d6007",
   "metadata": {},
   "outputs": [],
   "source": [
    "final.to_clipboard()"
   ]
  },
  {
   "cell_type": "code",
   "execution_count": 60,
   "id": "3cbda8a0",
   "metadata": {},
   "outputs": [],
   "source": [
    "final.to_csv('留存表.csv', index=False)"
   ]
  },
  {
   "cell_type": "code",
   "execution_count": null,
   "id": "f1b9f7d0",
   "metadata": {},
   "outputs": [],
   "source": []
  }
 ],
 "metadata": {
  "kernelspec": {
   "display_name": "Python 3 (ipykernel)",
   "language": "python",
   "name": "python3"
  },
  "language_info": {
   "codemirror_mode": {
    "name": "ipython",
    "version": 3
   },
   "file_extension": ".py",
   "mimetype": "text/x-python",
   "name": "python",
   "nbconvert_exporter": "python",
   "pygments_lexer": "ipython3",
   "version": "3.9.13"
  },
  "toc": {
   "base_numbering": 1,
   "nav_menu": {},
   "number_sections": true,
   "sideBar": true,
   "skip_h1_title": false,
   "title_cell": "Table of Contents",
   "title_sidebar": "Contents",
   "toc_cell": false,
   "toc_position": {
    "height": "calc(100% - 180px)",
    "left": "10px",
    "top": "150px",
    "width": "328.391px"
   },
   "toc_section_display": true,
   "toc_window_display": true
  }
 },
 "nbformat": 4,
 "nbformat_minor": 5
}
